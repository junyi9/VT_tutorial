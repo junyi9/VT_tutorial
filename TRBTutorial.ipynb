{
 "cells": [
  {
   "cell_type": "markdown",
   "id": "98bb3b69",
   "metadata": {},
   "source": [
    "# I-24 MOTION Tutorial\n",
    "# Virtual trajectories for I-24 MOTION: data and tools\n",
    "\n",
    "In this session, the tutorial will guide you through:\n",
    " 1. how to generate macroscopic mean speed from the raw data?\n",
    "2. how to smooth and interpolate the macroscopic data based on Adaptive Smoothing Method?\n",
    "3. how to use the macroscopic speed field to generate virtual trajectories?\n",
    "\n",
    "All the details of this session can be found at our Virtual Trajectory paper. \n",
    "\n",
    "**Ji, J., Wang, Y., Gloudemans, D., Zachár, G., Barbour, W., & Work, D. B. (2024, February). Virtual Trajectories for I–24 MOTION: Data and Tools. In 2024 Forum for Innovative Sustainable Transportation Systems (FISTS) (pp. 1-6). IEEE.**\n",
    "\n",
    "<img src=\"figures/4lane_w_vts.png\" width=\"1800\"/>"
   ]
  },
  {
   "cell_type": "markdown",
   "id": "ef82b35c44c977d1",
   "metadata": {
    "collapsed": false
   },
   "source": [
    "# Part 1: how to generate the macroscopic mean speed field?\n",
    "Macroscopic mean speed field refers to the aggregated speed of the time and space based on trajectory data.\n",
    "Data for test and tutorial here is actually a 10-minute data extracted from Nov 22, 2022. "
   ]
  },
  {
   "cell_type": "code",
   "execution_count": null,
   "id": "7198c992",
   "metadata": {
    "is_executing": true,
    "ExecuteTime": {
     "start_time": "2024-09-19T08:15:03.276559Z"
    }
   },
   "outputs": [],
   "source": [
    "from macro_data_processing import get_speed_mean_field\n",
    "from macro_data_processing import convert_to_cst_unix\n",
    "import warnings\n",
    "import time\n",
    "\n",
    "starttime = convert_to_cst_unix('2022-11-22 07:20')\n",
    "endtime = convert_to_cst_unix('2022-11-22 07:30')\n",
    "input_filename = \"../../data_demo/INCEPTION.22-11-22.tutorial.json\"\n",
    "\n",
    "# dx and dt are the size of edie's box\n",
    "dx = 0.02\n",
    "dt = 4\n",
    "lane_number = 1\n",
    "t0 = time.time()\n",
    "\n",
    "# Ignore an expected divide by zero error\n",
    "with warnings.catch_warnings():\n",
    "    warnings.simplefilter('ignore')\n",
    "    speed_raw = get_speed_mean_field(input_filename, dx, dt, starttime, endtime, lane_number)\n",
    "print(f\"Speed field compute time: {time.time() - t0}s\")\n",
    "# speed_raw_df here is a DataFrame, with 3 columns, saying t, x, speed.\n",
    "# t refers to the time index and x refers to the space index.\n",
    "# index here means the number of the time or space of the space-time state by the dt or dx\n",
    "# real time = t*dt + starttime\n",
    "# real milemarker = x*dx + min_milemarker (58.7 in our case)"
   ]
  },
  {
   "cell_type": "markdown",
   "id": "8e5e8e4f120b8013",
   "metadata": {
    "collapsed": false
   },
   "source": [
    "To understand how the macroscopic mean speed field is calculated using Edie's definition and why the diamond/non-rectangular cell is more recommended, readers can go to the following references for more details.\n",
    "\n",
    "### References\n",
    "[1] L. C. Edie et al., Discussion of traffic stream measurements and definitions. Port of New York Authority New York, 1963\n",
    "\n",
    "[2] Z. He, Y. Lv, L. Lu, and W. Guan, Constructing spatiotemporal speed contour diagrams: using rectangular or non-rectangular parallelogram cells? Transportmetrica B: transport dynamics, 2017\n",
    "\n",
    "[3] Treiber, M. Traffic dynamics and simulation, Class Slides: https://www.mtreiber.de/Vkmod/index.html, Lecture 1, 2023\n",
    "\n",
    "<img src=\"figures/diamond_edie.png\" alt=\"Diamond Edie\" width=\"2000\"/>"
   ]
  },
  {
   "cell_type": "code",
   "execution_count": null,
   "id": "89414ac3",
   "metadata": {},
   "outputs": [],
   "source": [
    "from visualization import visualize_heatmap"
   ]
  },
  {
   "cell_type": "code",
   "outputs": [],
   "source": [
    "speed_raw['time'] = speed_raw['t'] * dt\n",
    "speed_raw['milemarker'] = speed_raw['x'] * dx + 58.7"
   ],
   "metadata": {
    "collapsed": false
   },
   "id": "f784f72549670abb",
   "execution_count": null
  },
  {
   "cell_type": "code",
   "outputs": [],
   "source": [
    "from visualization import visualize_heatmap"
   ],
   "metadata": {
    "collapsed": false
   },
   "id": "984d81e3c26d5683",
   "execution_count": null
  },
  {
   "cell_type": "code",
   "execution_count": null,
   "id": "0edc1278",
   "metadata": {},
   "outputs": [],
   "source": [
    "# Visualize the raw speed field.\n",
    "visualize_heatmap(speed_raw, starttime=starttime, endtime=endtime, fig_width=16, fig_height=8, minor_xtick=int(300/dt))"
   ]
  },
  {
   "cell_type": "markdown",
   "id": "fdb9be7a",
   "metadata": {},
   "source": [
    "# Part 2: how to smooth and interpolate the macroscopic data based on ASM?"
   ]
  },
  {
   "cell_type": "markdown",
   "id": "26186b32152e5460",
   "metadata": {
    "collapsed": false
   },
   "source": [
    "### ASM (adaptive smoothing method)\n",
    "M. Treiber, A. Kesting, and R. E. Wilson, Reconstructing the traffic state by fusion of heterogeneous data, Computer-Aided Civil and Infrastructure Engineering, vol. 26, no. 6, pp. 408–419, 2011.\n",
    "\n",
    "<img src=\"figures/ASM.png\" alt=\"ASM\" width=\"1000\"/>"
   ]
  },
  {
   "cell_type": "code",
   "outputs": [],
   "source": [
    "speed_raw.head()\n",
    "speed_matrix = speed_raw.pivot(index='t', columns='x', values='speed').values"
   ],
   "metadata": {
    "collapsed": false
   },
   "id": "abf478c5c7b6a0",
   "execution_count": null
  },
  {
   "cell_type": "code",
   "execution_count": null,
   "id": "5734bfa09f744f24",
   "metadata": {
    "collapsed": false
   },
   "outputs": [],
   "source": [
    "# Import the speed field smoother and run it on the raw speed field.\n",
    "from ASM import smooth_speed_field\n",
    "t0 = time.time()\n",
    "smooth_speed_matrix = smooth_speed_field(speed_matrix, dx=dx, dt=dt)\n",
    "print(f\"Smoothing compute time: {time.time() - t0}s\")"
   ]
  },
  {
   "cell_type": "code",
   "outputs": [],
   "source": [
    "# make it to a DataFrame\n",
    "from macro_data_processing import matrix_to_coordinates\n",
    "import pandas as pd\n",
    "smooth_speed = pd.DataFrame(matrix_to_coordinates(smooth_speed_matrix))\n",
    "smooth_speed.columns = ['t', 'x', 'speed']\n",
    "smooth_speed['time'] = smooth_speed['t'] * dt\n",
    "smooth_speed['milemarker'] = smooth_speed['x'] * dx + 58.7"
   ],
   "metadata": {
    "collapsed": false
   },
   "id": "c1e62ab0dad15efd",
   "execution_count": null
  },
  {
   "cell_type": "code",
   "execution_count": null,
   "id": "36fc022d",
   "metadata": {},
   "outputs": [],
   "source": [
    "# Visualize the smoothed speed field.\n",
    "visualize_heatmap(smooth_speed, starttime=starttime, endtime=endtime, fig_width=16, fig_height=8, minor_xtick=int(300/dt))"
   ]
  },
  {
   "cell_type": "markdown",
   "id": "2a04a8582a547d97",
   "metadata": {
    "collapsed": false
   },
   "source": [
    "# Part 3: how to use the macroscopic speed field to generate VTs?"
   ]
  },
  {
   "cell_type": "markdown",
   "id": "55c5823349d1c641",
   "metadata": {
    "collapsed": false
   },
   "source": [
    "#### A standard approach to generate trajectories from a macroscopic speed field is to calculate the position p(t) of a vehicle assuming the velocity dynamics of the vehicle are computed as follows:\n",
    "<img src=\"figures/VTEQ.png\" alt=\"ASM\" width=\"500\"/>"
   ]
  },
  {
   "cell_type": "code",
   "execution_count": null,
   "id": "3d001eec",
   "metadata": {},
   "outputs": [],
   "source": [
    "# Import and use the function for generating a virtual trajectory through the smooth speed field.\n",
    "from VT import gen_VT_k\n",
    "vt = gen_VT_k(smooth_speed[['time', 'milemarker', 'speed']])\n",
    "# Note: the code for this function will be revised soon\n",
    "vt"
   ]
  },
  {
   "cell_type": "code",
   "outputs": [],
   "source": [
    "smooth_speed"
   ],
   "metadata": {
    "collapsed": false
   },
   "id": "779cb49754450166",
   "execution_count": null
  },
  {
   "cell_type": "code",
   "execution_count": null,
   "id": "e0485535",
   "metadata": {},
   "outputs": [],
   "source": [
    "# Visualize the speed field with the virtual trajectory on top\n",
    "from visualization import visualize_heatmap_vt\n",
    "visualize_heatmap_vt(smooth_speed, vt, starttime, endtime, fig_width=16, fig_height=8, minor_xtick=int(300/dt))"
   ]
  },
  {
   "cell_type": "markdown",
   "id": "eabe59655812fad3",
   "metadata": {
    "collapsed": false
   },
   "source": [
    "More data and analysis... ***Ji, J., Wang, Y., Gloudemans, D., Zachár, G., Barbour, W., & Work, D. B. (2024, February). Virtual Trajectories for I–24 MOTION: Data and Tools. In 2024 Forum for Innovative Sustainable Transportation Systems (FISTS) (pp. 1-6). IEEE.***\n",
    "<img src=\"figures/4lane_w_vts.png\" width=\"1800\"/>"
   ]
  },
  {
   "cell_type": "code",
   "outputs": [],
   "source": [],
   "metadata": {
    "collapsed": false
   },
   "id": "4a3a53c1dadcc1d8"
  }
 ],
 "metadata": {
  "kernelspec": {
   "display_name": "Python 3 (ipykernel)",
   "language": "python",
   "name": "python3"
  },
  "language_info": {
   "codemirror_mode": {
    "name": "ipython",
    "version": 3
   },
   "file_extension": ".py",
   "mimetype": "text/x-python",
   "name": "python",
   "nbconvert_exporter": "python",
   "pygments_lexer": "ipython3",
   "version": "3.10.13"
  }
 },
 "nbformat": 4,
 "nbformat_minor": 5
}
